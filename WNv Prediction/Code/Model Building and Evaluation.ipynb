{
 "cells": [
  {
   "cell_type": "code",
   "execution_count": 3,
   "id": "commercial-moral",
   "metadata": {},
   "outputs": [
    {
     "name": "stdout",
     "output_type": "stream",
     "text": [
      "Collecting imblearn\n",
      "  Downloading imblearn-0.0-py2.py3-none-any.whl (1.9 kB)\n",
      "Collecting imbalanced-learn\n",
      "  Downloading imbalanced_learn-0.8.1-py3-none-any.whl (189 kB)\n",
      "\u001b[K     |████████████████████████████████| 189 kB 4.4 MB/s eta 0:00:01\n",
      "\u001b[?25hRequirement already satisfied: numpy>=1.13.3 in /Users/vim/anaconda3/envs/vpwebscraping/lib/python3.8/site-packages (from imbalanced-learn->imblearn) (1.19.2)\n",
      "Requirement already satisfied: joblib>=0.11 in /Users/vim/anaconda3/envs/vpwebscraping/lib/python3.8/site-packages (from imbalanced-learn->imblearn) (1.0.1)\n",
      "Requirement already satisfied: scipy>=0.19.1 in /Users/vim/anaconda3/envs/vpwebscraping/lib/python3.8/site-packages (from imbalanced-learn->imblearn) (1.6.0)\n",
      "Collecting scikit-learn>=0.24\n",
      "  Downloading scikit_learn-1.0.1-cp38-cp38-macosx_10_13_x86_64.whl (7.9 MB)\n",
      "\u001b[K     |████████████████████████████████| 7.9 MB 12.7 MB/s eta 0:00:01\n",
      "\u001b[?25hRequirement already satisfied: threadpoolctl>=2.0.0 in /Users/vim/anaconda3/envs/vpwebscraping/lib/python3.8/site-packages (from scikit-learn>=0.24->imbalanced-learn->imblearn) (2.1.0)\n",
      "Installing collected packages: scikit-learn, imbalanced-learn, imblearn\n",
      "  Attempting uninstall: scikit-learn\n",
      "    Found existing installation: scikit-learn 0.23.2\n",
      "    Uninstalling scikit-learn-0.23.2:\n",
      "      Successfully uninstalled scikit-learn-0.23.2\n",
      "Successfully installed imbalanced-learn-0.8.1 imblearn-0.0 scikit-learn-1.0.1\n",
      "Note: you may need to restart the kernel to use updated packages.\n"
     ]
    }
   ],
   "source": [
    "pip install imblearn"
   ]
  },
  {
   "cell_type": "code",
   "execution_count": 5,
   "id": "environmental-merchandise",
   "metadata": {},
   "outputs": [
    {
     "name": "stdout",
     "output_type": "stream",
     "text": [
      "Collecting delayed\n",
      "  Downloading delayed-0.11.0b1-py2.py3-none-any.whl (19 kB)\n",
      "Collecting hiredis\n",
      "  Downloading hiredis-2.0.0-cp38-cp38-macosx_10_9_x86_64.whl (24 kB)\n",
      "Collecting redis\n",
      "  Downloading redis-4.0.1-py3-none-any.whl (118 kB)\n",
      "\u001b[K     |████████████████████████████████| 118 kB 5.4 MB/s eta 0:00:01\n",
      "\u001b[?25hCollecting deprecated\n",
      "  Downloading Deprecated-1.2.13-py2.py3-none-any.whl (9.6 kB)\n",
      "Requirement already satisfied: wrapt<2,>=1.10 in /Users/vim/anaconda3/envs/vpwebscraping/lib/python3.8/site-packages (from deprecated->redis->delayed) (1.12.1)\n",
      "Installing collected packages: deprecated, redis, hiredis, delayed\n",
      "Successfully installed delayed-0.11.0b1 deprecated-1.2.13 hiredis-2.0.0 redis-4.0.1\n",
      "Note: you may need to restart the kernel to use updated packages.\n"
     ]
    }
   ],
   "source": [
    "pip install delayed"
   ]
  },
  {
   "cell_type": "code",
   "execution_count": 168,
   "id": "approved-abortion",
   "metadata": {},
   "outputs": [],
   "source": [
    "#Importing the libraries\n",
    "import pandas as pd\n",
    "import numpy as np\n",
    "import matplotlib.pyplot as plt\n",
    "import seaborn as sns\n",
    "import pickle\n",
    "from sklearn.preprocessing import StandardScaler\n",
    "from sklearn.model_selection import train_test_split, GridSearchCV, cross_val_score\n",
    "from sklearn.pipeline import Pipeline\n",
    "from sklearn.linear_model import LogisticRegression\n",
    "from sklearn.ensemble import RandomForestClassifier\n",
    "from sklearn.metrics import (confusion_matrix, classification_report, plot_roc_curve, roc_auc_score, \n",
    "                             accuracy_score, precision_score, recall_score, f1_score, auc, \n",
    "                             precision_recall_curve, average_precision_score)\n",
    "from imblearn.over_sampling import SMOTE\n",
    "pd.set_option('display.max_rows', 500)"
   ]
  },
  {
   "cell_type": "code",
   "execution_count": 169,
   "id": "executed-skill",
   "metadata": {},
   "outputs": [],
   "source": [
    "#Loading the datasets\n",
    "train = pd.read_csv('train.csv')\n",
    "test = pd.read_csv('test.csv')\n",
    "weather = pd.read_csv('Cleaned_weather.csv')\n",
    "ftrain = pd.read_csv('Final_train.csv')\n",
    "ftest = pd.read_csv('Final_test.csv')"
   ]
  },
  {
   "cell_type": "code",
   "execution_count": 170,
   "id": "collaborative-globe",
   "metadata": {},
   "outputs": [],
   "source": [
    "test_id = test['Id']"
   ]
  },
  {
   "cell_type": "markdown",
   "id": "polyphonic-drive",
   "metadata": {},
   "source": [
    "TRAIN AND TEST SPLIT"
   ]
  },
  {
   "cell_type": "code",
   "execution_count": 171,
   "id": "broadband-appraisal",
   "metadata": {},
   "outputs": [],
   "source": [
    "ftrain = ftrain.drop(columns=['Year', 'Sunrise_WeekAvgTemp', 'DewPoint_Sunrise', 'Depart_WeekPrecipTotal'])\n",
    "ftest = ftest.drop(columns=['Year', 'Sunrise_WeekAvgTemp', 'DewPoint_Sunrise', 'Depart_WeekPrecipTotal'])"
   ]
  },
  {
   "cell_type": "code",
   "execution_count": 172,
   "id": "lined-socket",
   "metadata": {},
   "outputs": [],
   "source": [
    "X = ftrain\n",
    "y = train['WnvPresent']"
   ]
  },
  {
   "cell_type": "code",
   "execution_count": 173,
   "id": "empirical-denmark",
   "metadata": {},
   "outputs": [],
   "source": [
    "X_train, X_test, y_train, y_test = train_test_split(X, y, test_size=0.3, stratify=y, random_state=42)"
   ]
  },
  {
   "cell_type": "markdown",
   "id": "amended-paris",
   "metadata": {},
   "source": [
    "BASELINE MODEL"
   ]
  },
  {
   "cell_type": "code",
   "execution_count": 199,
   "id": "subjective-serum",
   "metadata": {},
   "outputs": [
    {
     "data": {
      "text/plain": [
       "0    0.947554\n",
       "1    0.052446\n",
       "Name: WnvPresent, dtype: float64"
      ]
     },
     "execution_count": 199,
     "metadata": {},
     "output_type": "execute_result"
    }
   ],
   "source": [
    "# Baseline\n",
    "y = train['WnvPresent']\n",
    "y.value_counts(normalize=True)"
   ]
  },
  {
   "cell_type": "markdown",
   "id": "indie-charger",
   "metadata": {},
   "source": [
    "MODEL PREPARATION"
   ]
  },
  {
   "cell_type": "code",
   "execution_count": 200,
   "id": "divine-seating",
   "metadata": {},
   "outputs": [],
   "source": [
    "# Instiantiate models\n",
    "models = {'lr': LogisticRegression(max_iter=5_000, random_state=42, solver='saga'),\n",
    "          'rfc': RandomForestClassifier(random_state=42),\n",
    "        }"
   ]
  },
  {
   "cell_type": "code",
   "execution_count": 209,
   "id": "eastern-function",
   "metadata": {},
   "outputs": [],
   "source": [
    "# Instantiate lists to store results\n",
    "init_list = []\n",
    "gs_list = []\n",
    "\n",
    "# Function to run model -- input scaler and model\n",
    "def run_model(mod, mod_params={}, grid_search=False):\n",
    "    \n",
    "    # Initial dictionary to hold model results\n",
    "    results = {}\n",
    "    \n",
    "    pipe = Pipeline([\n",
    "            ('ss', StandardScaler()),\n",
    "            (mod, models[mod])\n",
    "            ])\n",
    "    \n",
    "    if grid_search:\n",
    "        # Instantiate list to store gridsearch results\n",
    "        gs = GridSearchCV(pipe, param_grid=mod_params, cv=3, verbose=1, scoring='roc_auc', n_jobs=-1)\n",
    "        gs.fit(X_train, y_train)\n",
    "        pipe = gs\n",
    "        \n",
    "    else:\n",
    "        pipe.fit(X_train, y_train)\n",
    "    \n",
    "    # Retrieve metrics\n",
    "    predictions = pipe.predict(X_test)\n",
    "    tn, fp, fn, tp = confusion_matrix(y_test, predictions).ravel()\n",
    "    y_test_pred_prob = pipe.predict_proba(X_test)[:,1]\n",
    "    y_train_pred_prob = pipe.predict_proba(X_train)[:,1]\n",
    "    \n",
    "    results['model'] = mod\n",
    "    results['train_auc'] = roc_auc_score(y_train, y_train_pred_prob)\n",
    "    results['test_auc'] = roc_auc_score(y_test, y_test_pred_prob)\n",
    "    results['precision'] = precision_score(y_test, predictions)\n",
    "    results['specificity'] = tn / (tn + fp)\n",
    "    results['recall'] = recall_score(y_test, predictions)\n",
    "    results['f_score'] = f1_score(y_test, predictions)\n",
    "    results['accuracy'] = accuracy_score(y_test, predictions)\n",
    "    results['Matrix'] = confusion_matrix(y_test, predictions)\n",
    "    class_names=[0,1] \n",
    "    fig, ax = plt.subplots()\n",
    "    tick_marks = np.arange(len(class_names))\n",
    "    plt.xticks(tick_marks, class_names)\n",
    "    plt.yticks(tick_marks, class_names)\n",
    "    # create heatmap\n",
    "    sns.heatmap(pd.DataFrame(results['Matrix']), annot=True, cmap=\"YlGnBu\" ,fmt='g')\n",
    "    ax.xaxis.set_label_position(\"top\")\n",
    "    plt.tight_layout()\n",
    "    plt.title('Confusion matrix', y=1.1)\n",
    "    plt.ylabel('Actual label')\n",
    "    plt.xlabel('Predicted label')\n",
    "\n",
    "    if grid_search:\n",
    "        gs_list.append(results)\n",
    "        print('### BEST PARAMS ###')\n",
    "        display(pipe.best_params_)\n",
    "        \n",
    "    else:\n",
    "        init_list.append(results)\n",
    "    \n",
    "    print('### METRICS ###')\n",
    "    display(results)\n",
    "    \n",
    "    print(f\"True Negatives: {tn}\")\n",
    "    print(f\"False Positives: {fp}\")\n",
    "    print(f\"False Negatives: {fn}\")\n",
    "    print(f\"True Positives: {tp}\")\n",
    "    \n",
    "    return pipe"
   ]
  },
  {
   "cell_type": "markdown",
   "id": "compliant-subscription",
   "metadata": {},
   "source": [
    "TESTING MODELS WITHOUT FEATURE ENGINEERING"
   ]
  },
  {
   "cell_type": "markdown",
   "id": "fantastic-jungle",
   "metadata": {},
   "source": [
    "LOGISTIC REGRESSION"
   ]
  },
  {
   "cell_type": "code",
   "execution_count": 210,
   "id": "greenhouse-luther",
   "metadata": {},
   "outputs": [
    {
     "name": "stdout",
     "output_type": "stream",
     "text": [
      "### METRICS ###\n"
     ]
    },
    {
     "data": {
      "text/plain": [
       "{'model': 'lr',\n",
       " 'train_auc': 0.8487921473233058,\n",
       " 'test_auc': 0.8046250925728662,\n",
       " 'precision': 0.13143483023001096,\n",
       " 'specificity': 0.7345162370271175,\n",
       " 'recall': 0.7272727272727273,\n",
       " 'f_score': 0.22263450834879406,\n",
       " 'accuracy': 0.7341370558375635,\n",
       " 'Matrix': array([[2194,  793],\n",
       "        [  45,  120]])}"
      ]
     },
     "metadata": {},
     "output_type": "display_data"
    },
    {
     "name": "stdout",
     "output_type": "stream",
     "text": [
      "True Negatives: 2194\n",
      "False Positives: 793\n",
      "False Negatives: 45\n",
      "True Positives: 120\n"
     ]
    },
    {
     "data": {
      "image/png": "[encoded data removed]",
      "text/plain": [
       "<Figure size 432x288 with 2 Axes>"
      ]
     },
     "metadata": {
      "needs_background": "light"
     },
     "output_type": "display_data"
    }
   ],
   "source": [
    "lr = run_model('lr')"
   ]
  },
  {
   "cell_type": "markdown",
   "id": "impressed-honor",
   "metadata": {},
   "source": [
    "RANDOM FOREST CLASSIFIER"
   ]
  },
  {
   "cell_type": "code",
   "execution_count": 211,
   "id": "nervous-boxing",
   "metadata": {
    "scrolled": true
   },
   "outputs": [
    {
     "name": "stdout",
     "output_type": "stream",
     "text": [
      "### METRICS ###\n"
     ]
    },
    {
     "data": {
      "text/plain": [
       "{'model': 'rfc',\n",
       " 'train_auc': 0.9966787341608218,\n",
       " 'test_auc': 0.7727546641507137,\n",
       " 'precision': 0.18670886075949367,\n",
       " 'specificity': 0.9139604954804151,\n",
       " 'recall': 0.3575757575757576,\n",
       " 'f_score': 0.24532224532224534,\n",
       " 'accuracy': 0.8848350253807107,\n",
       " 'Matrix': array([[2730,  257],\n",
       "        [ 106,   59]])}"
      ]
     },
     "metadata": {},
     "output_type": "display_data"
    },
    {
     "name": "stdout",
     "output_type": "stream",
     "text": [
      "True Negatives: 2730\n",
      "False Positives: 257\n",
      "False Negatives: 106\n",
      "True Positives: 59\n"
     ]
    },
    {
     "data": {
      "image/png": "[encoded data removed]",
      "text/plain": [
       "<Figure size 432x288 with 2 Axes>"
      ]
     },
     "metadata": {
      "needs_background": "light"
     },
     "output_type": "display_data"
    }
   ],
   "source": [
    "rfc = run_model('rfc')"
   ]
  },
  {
   "cell_type": "code",
   "execution_count": 212,
   "id": "natural-pregnancy",
   "metadata": {},
   "outputs": [
    {
     "data": {
      "text/html": [
       "<div>\n",
       "<style scoped>\n",
       "    .dataframe tbody tr th:only-of-type {\n",
       "        vertical-align: middle;\n",
       "    }\n",
       "\n",
       "    .dataframe tbody tr th {\n",
       "        vertical-align: top;\n",
       "    }\n",
       "\n",
       "    .dataframe thead th {\n",
       "        text-align: right;\n",
       "    }\n",
       "</style>\n",
       "<table border=\"1\" class=\"dataframe\">\n",
       "  <thead>\n",
       "    <tr style=\"text-align: right;\">\n",
       "      <th></th>\n",
       "      <th>model</th>\n",
       "      <th>train_auc</th>\n",
       "      <th>test_auc</th>\n",
       "      <th>precision</th>\n",
       "      <th>specificity</th>\n",
       "      <th>recall</th>\n",
       "      <th>f_score</th>\n",
       "      <th>accuracy</th>\n",
       "      <th>Matrix</th>\n",
       "    </tr>\n",
       "  </thead>\n",
       "  <tbody>\n",
       "    <tr>\n",
       "      <th>0</th>\n",
       "      <td>lr</td>\n",
       "      <td>0.848792</td>\n",
       "      <td>0.804625</td>\n",
       "      <td>0.131435</td>\n",
       "      <td>0.734516</td>\n",
       "      <td>0.727273</td>\n",
       "      <td>0.222635</td>\n",
       "      <td>0.734137</td>\n",
       "      <td>[[2194, 793], [45, 120]]</td>\n",
       "    </tr>\n",
       "    <tr>\n",
       "      <th>1</th>\n",
       "      <td>rfc</td>\n",
       "      <td>0.996679</td>\n",
       "      <td>0.772755</td>\n",
       "      <td>0.186709</td>\n",
       "      <td>0.913960</td>\n",
       "      <td>0.357576</td>\n",
       "      <td>0.245322</td>\n",
       "      <td>0.884835</td>\n",
       "      <td>[[2730, 257], [106, 59]]</td>\n",
       "    </tr>\n",
       "  </tbody>\n",
       "</table>\n",
       "</div>"
      ],
      "text/plain": [
       "  model  train_auc  test_auc  precision  specificity    recall   f_score  \\\n",
       "0    lr   0.848792  0.804625   0.131435     0.734516  0.727273  0.222635   \n",
       "1   rfc   0.996679  0.772755   0.186709     0.913960  0.357576  0.245322   \n",
       "\n",
       "   accuracy                    Matrix  \n",
       "0  0.734137  [[2194, 793], [45, 120]]  \n",
       "1  0.884835  [[2730, 257], [106, 59]]  "
      ]
     },
     "execution_count": 212,
     "metadata": {},
     "output_type": "execute_result"
    }
   ],
   "source": [
    "# Results of our initial modelling\n",
    "pd.DataFrame(init_list).sort_values(by='test_auc', ascending=False).reset_index(drop=True)"
   ]
  },
  {
   "cell_type": "markdown",
   "id": "egyptian-strain",
   "metadata": {},
   "source": [
    "AUC-ROC EVALUATION"
   ]
  },
  {
   "cell_type": "code",
   "execution_count": 213,
   "id": "comprehensive-rochester",
   "metadata": {},
   "outputs": [],
   "source": [
    "init_dict = {\n",
    "    lr: 'LogisticRegression',\n",
    "    rfc: 'RandomForestClassifier'\n",
    "}"
   ]
  },
  {
   "cell_type": "code",
   "execution_count": 214,
   "id": "ancient-nudist",
   "metadata": {},
   "outputs": [],
   "source": [
    "#Function to plot the AUC-ROC curve\n",
    "\n",
    "def auc_roc_curve(model_dict, plot_top=False):\n",
    "    fig, ax = plt.subplots(1, 1, figsize=(12,10))\n",
    "    axes = {}\n",
    "    for i, m in enumerate(model_dict.keys()):\n",
    "        axes[f'ax{i}'] = plot_roc_curve(m, X_test, y_test, ax=ax, name=model_dict[m])\n",
    "    if plot_top:\n",
    "        for i, a in enumerate(axes):\n",
    "            if i != 0:\n",
    "                axes[a].line_.set_color('lightgrey')\n",
    "    plt.plot([0, 1], [0, 1], color='black', lw=2, linestyle='--', label='Random Guess')\n",
    "    plt.title('ROC-AUC Curve Comparison', fontsize=22)\n",
    "    plt.xlabel('False Positive Rate', fontsize=12)\n",
    "    plt.ylabel('True Positive Rate', fontsize=12)\n",
    "    plt.legend(fontsize=12)"
   ]
  },
  {
   "cell_type": "code",
   "execution_count": 215,
   "id": "funky-chick",
   "metadata": {},
   "outputs": [
    {
     "name": "stderr",
     "output_type": "stream",
     "text": [
      "/Users/vim/anaconda3/envs/vpwebscraping/lib/python3.8/site-packages/sklearn/utils/deprecation.py:87: FutureWarning: Function plot_roc_curve is deprecated; Function `plot_roc_curve` is deprecated in 1.0 and will be removed in 1.2. Use one of the class methods: RocCurveDisplay.from_predictions or RocCurveDisplay.from_estimator.\n",
      "  warnings.warn(msg, category=FutureWarning)\n",
      "/Users/vim/anaconda3/envs/vpwebscraping/lib/python3.8/site-packages/sklearn/utils/deprecation.py:87: FutureWarning: Function plot_roc_curve is deprecated; Function `plot_roc_curve` is deprecated in 1.0 and will be removed in 1.2. Use one of the class methods: RocCurveDisplay.from_predictions or RocCurveDisplay.from_estimator.\n",
      "  warnings.warn(msg, category=FutureWarning)\n"
     ]
    },
    {
     "data": {
      "image/png": "[encoded data removed]",
      "text/plain": [
       "<Figure size 864x720 with 1 Axes>"
      ]
     },
     "metadata": {
      "needs_background": "light"
     },
     "output_type": "display_data"
    }
   ],
   "source": [
    "#Applying the function \n",
    "auc_roc_curve(init_dict)"
   ]
  },
  {
   "cell_type": "markdown",
   "id": "trying-principal",
   "metadata": {},
   "source": [
    "HYPERPARAMETER TUNING WITH SMOTE"
   ]
  },
  {
   "cell_type": "code",
   "execution_count": 216,
   "id": "dependent-vanilla",
   "metadata": {},
   "outputs": [],
   "source": [
    "smote = SMOTE()\n",
    "X_train, y_train = smote.fit_resample(X_train, y_train)"
   ]
  },
  {
   "cell_type": "markdown",
   "id": "laden-slovak",
   "metadata": {},
   "source": [
    "LOGISTIC REGRESSION"
   ]
  },
  {
   "cell_type": "code",
   "execution_count": 217,
   "id": "cosmetic-reputation",
   "metadata": {},
   "outputs": [],
   "source": [
    "lr_params = {\n",
    "    # Trying different types of regularization\n",
    "    'lr__penalty':['l2','l1', 'elasticnet'],\n",
    "\n",
    "     # Trying different alphas of: 1, 0.1, 0.05  (C = 1/alpha)\n",
    "    'lr__C':[1, 10, 20],\n",
    "}"
   ]
  },
  {
   "cell_type": "code",
   "execution_count": 218,
   "id": "printable-corps",
   "metadata": {
    "scrolled": true
   },
   "outputs": [
    {
     "name": "stdout",
     "output_type": "stream",
     "text": [
      "Fitting 3 folds for each of 9 candidates, totalling 27 fits\n"
     ]
    },
    {
     "name": "stderr",
     "output_type": "stream",
     "text": [
      "/Users/vim/anaconda3/envs/vpwebscraping/lib/python3.8/site-packages/sklearn/model_selection/_validation.py:372: FitFailedWarning: \n",
      "9 fits failed out of a total of 27.\n",
      "The score on these train-test partitions for these parameters will be set to nan.\n",
      "If these failures are not expected, you can try to debug them by setting error_score='raise'.\n",
      "\n",
      "Below are more details about the failures:\n",
      "--------------------------------------------------------------------------------\n",
      "9 fits failed with the following error:\n",
      "Traceback (most recent call last):\n",
      "  File \"/Users/vim/anaconda3/envs/vpwebscraping/lib/python3.8/site-packages/sklearn/model_selection/_validation.py\", line 681, in _fit_and_score\n",
      "    estimator.fit(X_train, y_train, **fit_params)\n",
      "  File \"/Users/vim/anaconda3/envs/vpwebscraping/lib/python3.8/site-packages/sklearn/pipeline.py\", line 394, in fit\n",
      "    self._final_estimator.fit(Xt, y, **fit_params_last_step)\n",
      "  File \"/Users/vim/anaconda3/envs/vpwebscraping/lib/python3.8/site-packages/sklearn/linear_model/_logistic.py\", line 1471, in fit\n",
      "    raise ValueError(\n",
      "ValueError: l1_ratio must be between 0 and 1; got (l1_ratio=None)\n",
      "\n",
      "  warnings.warn(some_fits_failed_message, FitFailedWarning)\n",
      "/Users/vim/anaconda3/envs/vpwebscraping/lib/python3.8/site-packages/sklearn/model_selection/_search.py:969: UserWarning: One or more of the test scores are non-finite: [0.84581398 0.84606091        nan 0.84609869 0.84606032        nan\n",
      " 0.84609399 0.84603586        nan]\n",
      "  warnings.warn(\n"
     ]
    },
    {
     "name": "stdout",
     "output_type": "stream",
     "text": [
      "### BEST PARAMS ###\n"
     ]
    },
    {
     "data": {
      "text/plain": [
       "{'lr__C': 10, 'lr__penalty': 'l2'}"
      ]
     },
     "metadata": {},
     "output_type": "display_data"
    },
    {
     "name": "stdout",
     "output_type": "stream",
     "text": [
      "### METRICS ###\n"
     ]
    },
    {
     "data": {
      "text/plain": [
       "{'model': 'lr',\n",
       " 'train_auc': 0.8488675700199436,\n",
       " 'test_auc': 0.8037505960170841,\n",
       " 'precision': 0.1319290465631929,\n",
       " 'specificity': 0.7378640776699029,\n",
       " 'recall': 0.7212121212121212,\n",
       " 'f_score': 0.22305529522024367,\n",
       " 'accuracy': 0.736992385786802,\n",
       " 'Matrix': array([[2204,  783],\n",
       "        [  46,  119]])}"
      ]
     },
     "metadata": {},
     "output_type": "display_data"
    },
    {
     "name": "stdout",
     "output_type": "stream",
     "text": [
      "True Negatives: 2204\n",
      "False Positives: 783\n",
      "False Negatives: 46\n",
      "True Positives: 119\n"
     ]
    },
    {
     "data": {
      "image/png": "[encoded data removed]",
      "text/plain": [
       "<Figure size 432x288 with 2 Axes>"
      ]
     },
     "metadata": {
      "needs_background": "light"
     },
     "output_type": "display_data"
    }
   ],
   "source": [
    "lr_gs = run_model('lr', mod_params=lr_params, grid_search=True)"
   ]
  },
  {
   "cell_type": "markdown",
   "id": "corresponding-percentage",
   "metadata": {},
   "source": [
    "RANDOM FOREST CLASSIFIER"
   ]
  },
  {
   "cell_type": "code",
   "execution_count": 219,
   "id": "welsh-overall",
   "metadata": {},
   "outputs": [],
   "source": [
    "rfc_params = {'rfc__n_estimators': [20, 25, 30, 35],\n",
    "             'rfc__max_depth': [20, 30, 40, 50],\n",
    "             'rfc__min_samples_leaf': [2, 3, 4],\n",
    "            }"
   ]
  },
  {
   "cell_type": "code",
   "execution_count": 220,
   "id": "suitable-dream",
   "metadata": {},
   "outputs": [
    {
     "name": "stdout",
     "output_type": "stream",
     "text": [
      "Fitting 3 folds for each of 48 candidates, totalling 144 fits\n",
      "### BEST PARAMS ###\n"
     ]
    },
    {
     "data": {
      "text/plain": [
       "{'rfc__max_depth': 30, 'rfc__min_samples_leaf': 2, 'rfc__n_estimators': 35}"
      ]
     },
     "metadata": {},
     "output_type": "display_data"
    },
    {
     "name": "stdout",
     "output_type": "stream",
     "text": [
      "### METRICS ###\n"
     ]
    },
    {
     "data": {
      "text/plain": [
       "{'model': 'rfc',\n",
       " 'train_auc': 0.9915282207757028,\n",
       " 'test_auc': 0.7963143318014425,\n",
       " 'precision': 0.16990291262135923,\n",
       " 'specificity': 0.8855038500167393,\n",
       " 'recall': 0.42424242424242425,\n",
       " 'f_score': 0.24263431542461006,\n",
       " 'accuracy': 0.8613578680203046,\n",
       " 'Matrix': array([[2645,  342],\n",
       "        [  95,   70]])}"
      ]
     },
     "metadata": {},
     "output_type": "display_data"
    },
    {
     "name": "stdout",
     "output_type": "stream",
     "text": [
      "True Negatives: 2645\n",
      "False Positives: 342\n",
      "False Negatives: 95\n",
      "True Positives: 70\n"
     ]
    },
    {
     "data": {
      "image/png": "[encoded data removed]",
      "text/plain": [
       "<Figure size 432x288 with 2 Axes>"
      ]
     },
     "metadata": {
      "needs_background": "light"
     },
     "output_type": "display_data"
    }
   ],
   "source": [
    "rfc_gs =  run_model('rfc', mod_params=rfc_params, grid_search=True)"
   ]
  },
  {
   "cell_type": "code",
   "execution_count": 221,
   "id": "ahead-framework",
   "metadata": {},
   "outputs": [
    {
     "data": {
      "text/html": [
       "<div>\n",
       "<style scoped>\n",
       "    .dataframe tbody tr th:only-of-type {\n",
       "        vertical-align: middle;\n",
       "    }\n",
       "\n",
       "    .dataframe tbody tr th {\n",
       "        vertical-align: top;\n",
       "    }\n",
       "\n",
       "    .dataframe thead th {\n",
       "        text-align: right;\n",
       "    }\n",
       "</style>\n",
       "<table border=\"1\" class=\"dataframe\">\n",
       "  <thead>\n",
       "    <tr style=\"text-align: right;\">\n",
       "      <th></th>\n",
       "      <th>model</th>\n",
       "      <th>train_auc</th>\n",
       "      <th>test_auc</th>\n",
       "      <th>precision</th>\n",
       "      <th>specificity</th>\n",
       "      <th>recall</th>\n",
       "      <th>f_score</th>\n",
       "      <th>accuracy</th>\n",
       "      <th>Matrix</th>\n",
       "    </tr>\n",
       "  </thead>\n",
       "  <tbody>\n",
       "    <tr>\n",
       "      <th>0</th>\n",
       "      <td>lr</td>\n",
       "      <td>0.848868</td>\n",
       "      <td>0.803751</td>\n",
       "      <td>0.131929</td>\n",
       "      <td>0.737864</td>\n",
       "      <td>0.721212</td>\n",
       "      <td>0.223055</td>\n",
       "      <td>0.736992</td>\n",
       "      <td>[[2204, 783], [46, 119]]</td>\n",
       "    </tr>\n",
       "    <tr>\n",
       "      <th>1</th>\n",
       "      <td>rfc</td>\n",
       "      <td>0.991528</td>\n",
       "      <td>0.796314</td>\n",
       "      <td>0.169903</td>\n",
       "      <td>0.885504</td>\n",
       "      <td>0.424242</td>\n",
       "      <td>0.242634</td>\n",
       "      <td>0.861358</td>\n",
       "      <td>[[2645, 342], [95, 70]]</td>\n",
       "    </tr>\n",
       "  </tbody>\n",
       "</table>\n",
       "</div>"
      ],
      "text/plain": [
       "  model  train_auc  test_auc  precision  specificity    recall   f_score  \\\n",
       "0    lr   0.848868  0.803751   0.131929     0.737864  0.721212  0.223055   \n",
       "1   rfc   0.991528  0.796314   0.169903     0.885504  0.424242  0.242634   \n",
       "\n",
       "   accuracy                    Matrix  \n",
       "0  0.736992  [[2204, 783], [46, 119]]  \n",
       "1  0.861358   [[2645, 342], [95, 70]]  "
      ]
     },
     "execution_count": 221,
     "metadata": {},
     "output_type": "execute_result"
    }
   ],
   "source": [
    "gs_df = pd.DataFrame(gs_list)\n",
    "gs_df.sort_values(by='test_auc', ascending=False)"
   ]
  },
  {
   "cell_type": "markdown",
   "id": "monetary-hybrid",
   "metadata": {},
   "source": [
    "FINAL AUC-ROC EVALUATION"
   ]
  },
  {
   "cell_type": "code",
   "execution_count": 222,
   "id": "legendary-chess",
   "metadata": {},
   "outputs": [],
   "source": [
    "gs_dict = {\n",
    "    lr_gs: 'LogisticRegression',\n",
    "    rfc_gs: 'RandomForestClassifier'\n",
    "}"
   ]
  },
  {
   "cell_type": "code",
   "execution_count": 223,
   "id": "turkish-recycling",
   "metadata": {},
   "outputs": [
    {
     "name": "stderr",
     "output_type": "stream",
     "text": [
      "/Users/vim/anaconda3/envs/vpwebscraping/lib/python3.8/site-packages/sklearn/utils/deprecation.py:87: FutureWarning: Function plot_roc_curve is deprecated; Function `plot_roc_curve` is deprecated in 1.0 and will be removed in 1.2. Use one of the class methods: RocCurveDisplay.from_predictions or RocCurveDisplay.from_estimator.\n",
      "  warnings.warn(msg, category=FutureWarning)\n",
      "/Users/vim/anaconda3/envs/vpwebscraping/lib/python3.8/site-packages/sklearn/utils/deprecation.py:87: FutureWarning: Function plot_roc_curve is deprecated; Function `plot_roc_curve` is deprecated in 1.0 and will be removed in 1.2. Use one of the class methods: RocCurveDisplay.from_predictions or RocCurveDisplay.from_estimator.\n",
      "  warnings.warn(msg, category=FutureWarning)\n"
     ]
    },
    {
     "data": {
      "image/png": "[encoded data removed]",
      "text/plain": [
       "<Figure size 864x720 with 1 Axes>"
      ]
     },
     "metadata": {
      "needs_background": "light"
     },
     "output_type": "display_data"
    }
   ],
   "source": [
    "auc_roc_curve(gs_dict, plot_top=True)"
   ]
  },
  {
   "cell_type": "code",
   "execution_count": 258,
   "id": "pressed-interference",
   "metadata": {},
   "outputs": [
    {
     "name": "stdout",
     "output_type": "stream",
     "text": [
      "Fitting 3 folds for each of 48 candidates, totalling 144 fits\n"
     ]
    }
   ],
   "source": [
    "# Refit model on training data\n",
    "final_model = rfc_gs.fit(X, y)"
   ]
  },
  {
   "cell_type": "code",
   "execution_count": 236,
   "id": "quick-communist",
   "metadata": {},
   "outputs": [
    {
     "data": {
      "image/png": "[encoded data removed]",
      "text/plain": [
       "<Figure size 720x864 with 1 Axes>"
      ]
     },
     "metadata": {
      "needs_background": "light"
     },
     "output_type": "display_data"
    }
   ],
   "source": [
    "lr_gs_df = pd.DataFrame(columns=X.columns, data=lr_gs.best_estimator_.steps[1][1].coef_).T\n",
    "lr_gs_df.columns = ['coefs']\n",
    "lr_gs_df = lr_gs_df.sort_values(ascending=False, by='coefs')\n",
    "plt.figure(figsize=(10, 12))\n",
    "sns.barplot(data=lr_gs_df, y=lr_gs_df.index, x='coefs', orient='h')\n",
    "plt.tight_layout()\n",
    "plt.savefig(fname='final_model_lr', dpi=300)"
   ]
  },
  {
   "cell_type": "code",
   "execution_count": 259,
   "id": "adverse-objective",
   "metadata": {},
   "outputs": [],
   "source": [
    "predictions = final_model.predict(ftest)"
   ]
  },
  {
   "cell_type": "code",
   "execution_count": 260,
   "id": "patient-vocabulary",
   "metadata": {},
   "outputs": [
    {
     "data": {
      "text/plain": [
       "0    116293\n",
       "Name: 0, dtype: int64"
      ]
     },
     "execution_count": 260,
     "metadata": {},
     "output_type": "execute_result"
    }
   ],
   "source": [
    "df = pd.DataFrame(predictions)\n",
    "df[0].value_counts()"
   ]
  },
  {
   "cell_type": "code",
   "execution_count": 261,
   "id": "revised-interface",
   "metadata": {},
   "outputs": [],
   "source": [
    "prediction = final_model.predict_proba(ftest)"
   ]
  },
  {
   "cell_type": "code",
   "execution_count": 262,
   "id": "artistic-essex",
   "metadata": {},
   "outputs": [],
   "source": [
    "probability = [i[1] for i in prediction]"
   ]
  },
  {
   "cell_type": "code",
   "execution_count": 263,
   "id": "ahead-translator",
   "metadata": {},
   "outputs": [],
   "source": [
    "# Saving final model for further analysis\n",
    "filename = 'Final_model.sav'\n",
    "pickle.dump(final_model, open(filename, 'wb'))"
   ]
  },
  {
   "cell_type": "markdown",
   "id": "arctic-browse",
   "metadata": {},
   "source": [
    "PREDICTION RESULTS"
   ]
  },
  {
   "cell_type": "code",
   "execution_count": 264,
   "id": "polyphonic-specialist",
   "metadata": {},
   "outputs": [
    {
     "data": {
      "text/html": [
       "<div>\n",
       "<style scoped>\n",
       "    .dataframe tbody tr th:only-of-type {\n",
       "        vertical-align: middle;\n",
       "    }\n",
       "\n",
       "    .dataframe tbody tr th {\n",
       "        vertical-align: top;\n",
       "    }\n",
       "\n",
       "    .dataframe thead th {\n",
       "        text-align: right;\n",
       "    }\n",
       "</style>\n",
       "<table border=\"1\" class=\"dataframe\">\n",
       "  <thead>\n",
       "    <tr style=\"text-align: right;\">\n",
       "      <th></th>\n",
       "      <th>Id</th>\n",
       "      <th>WnvPresent</th>\n",
       "    </tr>\n",
       "  </thead>\n",
       "  <tbody>\n",
       "    <tr>\n",
       "      <th>0</th>\n",
       "      <td>1</td>\n",
       "      <td>0.003333</td>\n",
       "    </tr>\n",
       "    <tr>\n",
       "      <th>1</th>\n",
       "      <td>2</td>\n",
       "      <td>0.000000</td>\n",
       "    </tr>\n",
       "    <tr>\n",
       "      <th>2</th>\n",
       "      <td>3</td>\n",
       "      <td>0.003333</td>\n",
       "    </tr>\n",
       "    <tr>\n",
       "      <th>3</th>\n",
       "      <td>4</td>\n",
       "      <td>0.000000</td>\n",
       "    </tr>\n",
       "    <tr>\n",
       "      <th>4</th>\n",
       "      <td>5</td>\n",
       "      <td>0.000000</td>\n",
       "    </tr>\n",
       "    <tr>\n",
       "      <th>...</th>\n",
       "      <td>...</td>\n",
       "      <td>...</td>\n",
       "    </tr>\n",
       "    <tr>\n",
       "      <th>116288</th>\n",
       "      <td>116289</td>\n",
       "      <td>0.062906</td>\n",
       "    </tr>\n",
       "    <tr>\n",
       "      <th>116289</th>\n",
       "      <td>116290</td>\n",
       "      <td>0.062906</td>\n",
       "    </tr>\n",
       "    <tr>\n",
       "      <th>116290</th>\n",
       "      <td>116291</td>\n",
       "      <td>0.062906</td>\n",
       "    </tr>\n",
       "    <tr>\n",
       "      <th>116291</th>\n",
       "      <td>116292</td>\n",
       "      <td>0.062906</td>\n",
       "    </tr>\n",
       "    <tr>\n",
       "      <th>116292</th>\n",
       "      <td>116293</td>\n",
       "      <td>0.062906</td>\n",
       "    </tr>\n",
       "  </tbody>\n",
       "</table>\n",
       "<p>116293 rows × 2 columns</p>\n",
       "</div>"
      ],
      "text/plain": [
       "            Id  WnvPresent\n",
       "0            1    0.003333\n",
       "1            2    0.000000\n",
       "2            3    0.003333\n",
       "3            4    0.000000\n",
       "4            5    0.000000\n",
       "...        ...         ...\n",
       "116288  116289    0.062906\n",
       "116289  116290    0.062906\n",
       "116290  116291    0.062906\n",
       "116291  116292    0.062906\n",
       "116292  116293    0.062906\n",
       "\n",
       "[116293 rows x 2 columns]"
      ]
     },
     "execution_count": 264,
     "metadata": {},
     "output_type": "execute_result"
    }
   ],
   "source": [
    "result = pd.DataFrame()\n",
    "result['Id'] = test_id\n",
    "result['WnvPresent'] = probability\n",
    "result"
   ]
  },
  {
   "cell_type": "code",
   "execution_count": 265,
   "id": "interesting-rebecca",
   "metadata": {},
   "outputs": [],
   "source": [
    "test['Date'] = pd.to_datetime(test['Date'])\n",
    "test['Year'] = test['Date'].apply(lambda x: x.year)"
   ]
  },
  {
   "cell_type": "code",
   "execution_count": 266,
   "id": "binding-vocabulary",
   "metadata": {},
   "outputs": [],
   "source": [
    "result['Year'] = test['Year']"
   ]
  },
  {
   "cell_type": "code",
   "execution_count": 267,
   "id": "banner-evans",
   "metadata": {},
   "outputs": [],
   "source": [
    "\n",
    "def year_mod(row):\n",
    "    if row['Year'] == 2012:\n",
    "        row['WnvPresent'] = row['WnvPresent'] * 2\n",
    "        if row['WnvPresent'] > 1:\n",
    "            row['WnvPresent'] = 0.99\n",
    "    return row"
   ]
  },
  {
   "cell_type": "code",
   "execution_count": 268,
   "id": "female-adoption",
   "metadata": {},
   "outputs": [],
   "source": [
    "result = result.apply(year_mod, axis=1)"
   ]
  },
  {
   "cell_type": "code",
   "execution_count": 269,
   "id": "incorrect-permit",
   "metadata": {},
   "outputs": [],
   "source": [
    "result['Id'] = result['Id'].astype(int)\n",
    "result = result.drop(columns='Year')"
   ]
  },
  {
   "cell_type": "markdown",
   "id": "unique-residence",
   "metadata": {},
   "source": [
    "Export to CSV\n"
   ]
  },
  {
   "cell_type": "code",
   "execution_count": 270,
   "id": "described-alert",
   "metadata": {},
   "outputs": [],
   "source": [
    "result.to_csv('FinalOutput.csv', index=False)"
   ]
  },
  {
   "cell_type": "code",
   "execution_count": 271,
   "id": "running-computer",
   "metadata": {},
   "outputs": [],
   "source": [
    "op = pd.read_csv('FinalOutput.csv')"
   ]
  },
  {
   "cell_type": "code",
   "execution_count": 272,
   "id": "certified-springfield",
   "metadata": {},
   "outputs": [
    {
     "data": {
      "text/html": [
       "<div>\n",
       "<style scoped>\n",
       "    .dataframe tbody tr th:only-of-type {\n",
       "        vertical-align: middle;\n",
       "    }\n",
       "\n",
       "    .dataframe tbody tr th {\n",
       "        vertical-align: top;\n",
       "    }\n",
       "\n",
       "    .dataframe thead th {\n",
       "        text-align: right;\n",
       "    }\n",
       "</style>\n",
       "<table border=\"1\" class=\"dataframe\">\n",
       "  <thead>\n",
       "    <tr style=\"text-align: right;\">\n",
       "      <th></th>\n",
       "      <th>Id</th>\n",
       "      <th>WnvPresent</th>\n",
       "    </tr>\n",
       "  </thead>\n",
       "  <tbody>\n",
       "    <tr>\n",
       "      <th>0</th>\n",
       "      <td>1</td>\n",
       "      <td>0.003333</td>\n",
       "    </tr>\n",
       "    <tr>\n",
       "      <th>1</th>\n",
       "      <td>2</td>\n",
       "      <td>0.000000</td>\n",
       "    </tr>\n",
       "    <tr>\n",
       "      <th>2</th>\n",
       "      <td>3</td>\n",
       "      <td>0.003333</td>\n",
       "    </tr>\n",
       "    <tr>\n",
       "      <th>3</th>\n",
       "      <td>4</td>\n",
       "      <td>0.000000</td>\n",
       "    </tr>\n",
       "    <tr>\n",
       "      <th>4</th>\n",
       "      <td>5</td>\n",
       "      <td>0.000000</td>\n",
       "    </tr>\n",
       "  </tbody>\n",
       "</table>\n",
       "</div>"
      ],
      "text/plain": [
       "   Id  WnvPresent\n",
       "0   1    0.003333\n",
       "1   2    0.000000\n",
       "2   3    0.003333\n",
       "3   4    0.000000\n",
       "4   5    0.000000"
      ]
     },
     "execution_count": 272,
     "metadata": {},
     "output_type": "execute_result"
    }
   ],
   "source": [
    "op.head()"
   ]
  },
  {
   "cell_type": "code",
   "execution_count": 273,
   "id": "invalid-detail",
   "metadata": {},
   "outputs": [
    {
     "name": "stdout",
     "output_type": "stream",
     "text": [
      "<class 'pandas.core.frame.DataFrame'>\n",
      "RangeIndex: 116293 entries, 0 to 116292\n",
      "Data columns (total 2 columns):\n",
      " #   Column      Non-Null Count   Dtype  \n",
      "---  ------      --------------   -----  \n",
      " 0   Id          116293 non-null  int64  \n",
      " 1   WnvPresent  116293 non-null  float64\n",
      "dtypes: float64(1), int64(1)\n",
      "memory usage: 1.8 MB\n"
     ]
    }
   ],
   "source": [
    "op.info()"
   ]
  },
  {
   "cell_type": "code",
   "execution_count": null,
   "id": "sufficient-federal",
   "metadata": {},
   "outputs": [],
   "source": []
  }
 ],
 "metadata": {
  "kernelspec": {
   "display_name": "Python 3",
   "language": "python",
   "name": "python3"
  },
  "language_info": {
   "codemirror_mode": {
    "name": "ipython",
    "version": 3
   },
   "file_extension": ".py",
   "mimetype": "text/x-python",
   "name": "python",
   "nbconvert_exporter": "python",
   "pygments_lexer": "ipython3",
   "version": "3.8.5"
  }
 },
 "nbformat": 4,
 "nbformat_minor": 5
}
