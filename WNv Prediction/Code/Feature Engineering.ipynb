{
 "cells": [
  {
   "cell_type": "code",
   "execution_count": 390,
   "id": "square-cattle",
   "metadata": {},
   "outputs": [],
   "source": [
    "# Importing the libraries\n",
    "import pandas as pd\n",
    "import numpy as np\n",
    "import matplotlib.pyplot as plt\n",
    "import seaborn as sns\n",
    "import math\n",
    "from sklearn.preprocessing import PolynomialFeatures\n",
    "from sklearn.preprocessing import StandardScaler\n",
    "pd.set_option('display.max_rows', 200)"
   ]
  },
  {
   "cell_type": "code",
   "execution_count": 391,
   "id": "flying-pencil",
   "metadata": {},
   "outputs": [],
   "source": [
    "#Loading the datasets\n",
    "ctrain = pd.read_csv('Cleaned_train.csv')\n",
    "test = pd.read_csv('test.csv')\n",
    "cweather = pd.read_csv('Cleaned_weather.csv')\n",
    "cspray = pd.read_csv('Cleaned_spray.csv')"
   ]
  },
  {
   "cell_type": "code",
   "execution_count": 392,
   "id": "developmental-probe",
   "metadata": {},
   "outputs": [],
   "source": [
    "#Dropping NumMosquitos since it is not present in test data\n",
    "ctrain = ctrain.drop(columns='NumMosquitos')"
   ]
  },
  {
   "cell_type": "code",
   "execution_count": 393,
   "id": "sporting-favorite",
   "metadata": {},
   "outputs": [],
   "source": [
    "#Convert to datetime object\n",
    "cweather['Date'] = pd.to_datetime(cweather['Date'])\n",
    "ctrain['Date'] = pd.to_datetime(ctrain['Date'])"
   ]
  },
  {
   "cell_type": "code",
   "execution_count": 394,
   "id": "romantic-horizontal",
   "metadata": {},
   "outputs": [],
   "source": [
    "#Function to access certain weeks in a specific year\n",
    "\n",
    "def year_week(row):\n",
    "    week = row['Week']\n",
    "    year = row['Year']\n",
    "    row['YearWeek'] = f'{year}{week}'\n",
    "    row['YearWeek'] = int(row['YearWeek'])\n",
    "    return row"
   ]
  },
  {
   "cell_type": "code",
   "execution_count": 395,
   "id": "surrounded-bailey",
   "metadata": {},
   "outputs": [],
   "source": [
    "#Apply the function year_week\n",
    "ctrain = ctrain.apply(year_week, axis=1)\n",
    "cweather = cweather.apply(year_week, axis=1)"
   ]
  },
  {
   "cell_type": "markdown",
   "id": "brilliant-senegal",
   "metadata": {},
   "source": [
    "RELATIVE HUMIDITY"
   ]
  },
  {
   "cell_type": "code",
   "execution_count": 396,
   "id": "patent-penny",
   "metadata": {},
   "outputs": [],
   "source": [
    "#To convert Fahrenheit to Celcius\n",
    "\n",
    "def fc(x):\n",
    "    c = ((x - 32) * 5.0)/9.0\n",
    "    return float(c)"
   ]
  },
  {
   "cell_type": "code",
   "execution_count": 397,
   "id": "bizarre-blackjack",
   "metadata": {},
   "outputs": [],
   "source": [
    "#Apply the function fc \n",
    "\n",
    "cweather['TavgC'] = cweather['Tavg'].apply(fc)\n",
    "cweather['TminC'] = cweather['Tmin'].apply(fc)\n",
    "cweather['TmaxC'] = cweather['Tmax'].apply(fc)\n",
    "cweather['DewPointC'] = cweather['DewPoint'].apply(fc)"
   ]
  },
  {
   "cell_type": "code",
   "execution_count": 398,
   "id": "vocational-charter",
   "metadata": {},
   "outputs": [],
   "source": [
    "#Function to calculate Relative Humidity\n",
    "\n",
    "def rhm(row):\n",
    "    row['rhm'] = round(100*(math.exp((17.625*row['DewPointC'])/(243.04+row['DewPointC'])) \\\n",
    "                          / math.exp((17.625*row['TavgC'])/(243.04+row['TavgC']))))\n",
    "    return row"
   ]
  },
  {
   "cell_type": "code",
   "execution_count": 399,
   "id": "frozen-equation",
   "metadata": {},
   "outputs": [],
   "source": [
    "#Apply function rhm  \n",
    "cweather = cweather.apply(rhm, axis=1)"
   ]
  },
  {
   "cell_type": "code",
   "execution_count": 400,
   "id": "alert-error",
   "metadata": {},
   "outputs": [
    {
     "data": {
      "text/plain": [
       "62.21399456521739"
      ]
     },
     "execution_count": 400,
     "metadata": {},
     "output_type": "execute_result"
    }
   ],
   "source": [
    "# The average humidity in Chicago could be a factor in the spread of the West Nile Virus\n",
    "cweather['rhm'].mean()"
   ]
  },
  {
   "cell_type": "code",
   "execution_count": 401,
   "id": "conceptual-formula",
   "metadata": {},
   "outputs": [],
   "source": [
    "# Dropping as these are no longer needed\n",
    "cweather = cweather.drop(columns=['TavgC', 'TminC', 'TmaxC', 'DewPointC'])"
   ]
  },
  {
   "cell_type": "code",
   "execution_count": 402,
   "id": "handmade-lithuania",
   "metadata": {
    "scrolled": true
   },
   "outputs": [
    {
     "data": {
      "text/html": [
       "<div>\n",
       "<style scoped>\n",
       "    .dataframe tbody tr th:only-of-type {\n",
       "        vertical-align: middle;\n",
       "    }\n",
       "\n",
       "    .dataframe tbody tr th {\n",
       "        vertical-align: top;\n",
       "    }\n",
       "\n",
       "    .dataframe thead th {\n",
       "        text-align: right;\n",
       "    }\n",
       "</style>\n",
       "<table border=\"1\" class=\"dataframe\">\n",
       "  <thead>\n",
       "    <tr style=\"text-align: right;\">\n",
       "      <th></th>\n",
       "      <th>Date</th>\n",
       "      <th>Tmax</th>\n",
       "      <th>Tmin</th>\n",
       "      <th>Tavg</th>\n",
       "      <th>Depart</th>\n",
       "      <th>DewPoint</th>\n",
       "      <th>WetBulb</th>\n",
       "      <th>Heat</th>\n",
       "      <th>Cool</th>\n",
       "      <th>Sunrise</th>\n",
       "      <th>...</th>\n",
       "      <th>AvgSpeed</th>\n",
       "      <th>n_codesum</th>\n",
       "      <th>Rain</th>\n",
       "      <th>Mist</th>\n",
       "      <th>Year</th>\n",
       "      <th>Month</th>\n",
       "      <th>Week</th>\n",
       "      <th>DayOfWeek</th>\n",
       "      <th>YearWeek</th>\n",
       "      <th>rhm</th>\n",
       "    </tr>\n",
       "  </thead>\n",
       "  <tbody>\n",
       "    <tr>\n",
       "      <th>1287</th>\n",
       "      <td>2013-10-31</td>\n",
       "      <td>64.5</td>\n",
       "      <td>46.5</td>\n",
       "      <td>55.5</td>\n",
       "      <td>9.5</td>\n",
       "      <td>56.0</td>\n",
       "      <td>57.0</td>\n",
       "      <td>9.5</td>\n",
       "      <td>0.0</td>\n",
       "      <td>623.0</td>\n",
       "      <td>...</td>\n",
       "      <td>11.45</td>\n",
       "      <td>2.0</td>\n",
       "      <td>1.0</td>\n",
       "      <td>1.0</td>\n",
       "      <td>2013</td>\n",
       "      <td>10</td>\n",
       "      <td>44</td>\n",
       "      <td>3</td>\n",
       "      <td>201344</td>\n",
       "      <td>102</td>\n",
       "    </tr>\n",
       "    <tr>\n",
       "      <th>1454</th>\n",
       "      <td>2014-10-14</td>\n",
       "      <td>66.0</td>\n",
       "      <td>53.0</td>\n",
       "      <td>60.0</td>\n",
       "      <td>7.0</td>\n",
       "      <td>58.0</td>\n",
       "      <td>59.0</td>\n",
       "      <td>5.0</td>\n",
       "      <td>0.0</td>\n",
       "      <td>603.0</td>\n",
       "      <td>...</td>\n",
       "      <td>9.40</td>\n",
       "      <td>3.0</td>\n",
       "      <td>1.0</td>\n",
       "      <td>1.0</td>\n",
       "      <td>2014</td>\n",
       "      <td>10</td>\n",
       "      <td>42</td>\n",
       "      <td>1</td>\n",
       "      <td>201442</td>\n",
       "      <td>93</td>\n",
       "    </tr>\n",
       "    <tr>\n",
       "      <th>319</th>\n",
       "      <td>2008-09-13</td>\n",
       "      <td>76.0</td>\n",
       "      <td>68.5</td>\n",
       "      <td>72.5</td>\n",
       "      <td>7.5</td>\n",
       "      <td>70.0</td>\n",
       "      <td>71.0</td>\n",
       "      <td>0.0</td>\n",
       "      <td>7.5</td>\n",
       "      <td>529.0</td>\n",
       "      <td>...</td>\n",
       "      <td>9.40</td>\n",
       "      <td>2.0</td>\n",
       "      <td>1.0</td>\n",
       "      <td>1.0</td>\n",
       "      <td>2008</td>\n",
       "      <td>9</td>\n",
       "      <td>37</td>\n",
       "      <td>5</td>\n",
       "      <td>200837</td>\n",
       "      <td>92</td>\n",
       "    </tr>\n",
       "    <tr>\n",
       "      <th>1286</th>\n",
       "      <td>2013-10-30</td>\n",
       "      <td>63.5</td>\n",
       "      <td>45.0</td>\n",
       "      <td>54.5</td>\n",
       "      <td>8.5</td>\n",
       "      <td>52.0</td>\n",
       "      <td>53.0</td>\n",
       "      <td>10.5</td>\n",
       "      <td>0.0</td>\n",
       "      <td>622.0</td>\n",
       "      <td>...</td>\n",
       "      <td>6.85</td>\n",
       "      <td>3.0</td>\n",
       "      <td>1.0</td>\n",
       "      <td>1.0</td>\n",
       "      <td>2013</td>\n",
       "      <td>10</td>\n",
       "      <td>44</td>\n",
       "      <td>2</td>\n",
       "      <td>201344</td>\n",
       "      <td>91</td>\n",
       "    </tr>\n",
       "    <tr>\n",
       "      <th>763</th>\n",
       "      <td>2011-05-28</td>\n",
       "      <td>63.0</td>\n",
       "      <td>51.5</td>\n",
       "      <td>57.5</td>\n",
       "      <td>-5.5</td>\n",
       "      <td>55.0</td>\n",
       "      <td>56.0</td>\n",
       "      <td>7.5</td>\n",
       "      <td>0.0</td>\n",
       "      <td>421.0</td>\n",
       "      <td>...</td>\n",
       "      <td>6.25</td>\n",
       "      <td>3.0</td>\n",
       "      <td>1.0</td>\n",
       "      <td>1.0</td>\n",
       "      <td>2011</td>\n",
       "      <td>5</td>\n",
       "      <td>21</td>\n",
       "      <td>5</td>\n",
       "      <td>201121</td>\n",
       "      <td>91</td>\n",
       "    </tr>\n",
       "  </tbody>\n",
       "</table>\n",
       "<p>5 rows × 26 columns</p>\n",
       "</div>"
      ],
      "text/plain": [
       "           Date  Tmax  Tmin  Tavg  Depart  DewPoint  WetBulb  Heat  Cool  \\\n",
       "1287 2013-10-31  64.5  46.5  55.5     9.5      56.0     57.0   9.5   0.0   \n",
       "1454 2014-10-14  66.0  53.0  60.0     7.0      58.0     59.0   5.0   0.0   \n",
       "319  2008-09-13  76.0  68.5  72.5     7.5      70.0     71.0   0.0   7.5   \n",
       "1286 2013-10-30  63.5  45.0  54.5     8.5      52.0     53.0  10.5   0.0   \n",
       "763  2011-05-28  63.0  51.5  57.5    -5.5      55.0     56.0   7.5   0.0   \n",
       "\n",
       "      Sunrise  ...  AvgSpeed  n_codesum  Rain  Mist  Year  Month  Week  \\\n",
       "1287    623.0  ...     11.45        2.0   1.0   1.0  2013     10    44   \n",
       "1454    603.0  ...      9.40        3.0   1.0   1.0  2014     10    42   \n",
       "319     529.0  ...      9.40        2.0   1.0   1.0  2008      9    37   \n",
       "1286    622.0  ...      6.85        3.0   1.0   1.0  2013     10    44   \n",
       "763     421.0  ...      6.25        3.0   1.0   1.0  2011      5    21   \n",
       "\n",
       "      DayOfWeek  YearWeek  rhm  \n",
       "1287          3    201344  102  \n",
       "1454          1    201442   93  \n",
       "319           5    200837   92  \n",
       "1286          2    201344   91  \n",
       "763           5    201121   91  \n",
       "\n",
       "[5 rows x 26 columns]"
      ]
     },
     "execution_count": 402,
     "metadata": {},
     "output_type": "execute_result"
    }
   ],
   "source": [
    "cweather.sort_values(by = 'rhm', ascending=False).head()"
   ]
  },
  {
   "cell_type": "markdown",
   "id": "powered-productivity",
   "metadata": {},
   "source": [
    "WEEKLY AVERAGE PRECIPITATION"
   ]
  },
  {
   "cell_type": "code",
   "execution_count": 403,
   "id": "alpine-bibliography",
   "metadata": {},
   "outputs": [],
   "source": [
    "# Set up a temp df for calculation of cumulative weekly precipitation\n",
    "temp_df = cweather.groupby('YearWeek').sum()"
   ]
  },
  {
   "cell_type": "code",
   "execution_count": 404,
   "id": "female-senator",
   "metadata": {},
   "outputs": [],
   "source": [
    "#Function to calcuate weekly precipitation\n",
    "\n",
    "def WAP(row):\n",
    "    YearWeek = row['YearWeek']\n",
    "    row['WeekPrecipTotal'] = temp_df.loc[YearWeek]['PrecipTotal']\n",
    "    return row"
   ]
  },
  {
   "cell_type": "code",
   "execution_count": 405,
   "id": "prepared-involvement",
   "metadata": {},
   "outputs": [],
   "source": [
    "#Apply function WAP\n",
    "cweather = cweather.apply(WAP, axis=1)"
   ]
  },
  {
   "cell_type": "markdown",
   "id": "color-assembly",
   "metadata": {},
   "source": [
    "WEEKLY AVERAGE TEMPERATURE"
   ]
  },
  {
   "cell_type": "code",
   "execution_count": 406,
   "id": "auburn-craft",
   "metadata": {},
   "outputs": [],
   "source": [
    "#Function to calculate weekly average temperature\n",
    "\n",
    "def WAT(row):\n",
    "    YearWeek = row['YearWeek']\n",
    "    temp_sum = temp_df.loc[YearWeek]['Tavg']\n",
    "    n_days = cweather[cweather['YearWeek'] == YearWeek].shape[0]\n",
    "    row['WeekAvgTemp'] = temp_sum / n_days\n",
    "    return row"
   ]
  },
  {
   "cell_type": "code",
   "execution_count": 407,
   "id": "loaded-position",
   "metadata": {},
   "outputs": [],
   "source": [
    "#Apply functin WAT\n",
    "cweather = cweather.apply(WAT, axis=1)"
   ]
  },
  {
   "cell_type": "markdown",
   "id": "rising-result",
   "metadata": {},
   "source": [
    "TEMPORAL FEATURES:  \n",
    "                  Seeing that some of the variables have a lagging effect on the growth of the mosquito population, we create lagged variables for the weather features so that the model can account for how the weather conditions in the previous month affect the incidences of the West Nile Virus today."
   ]
  },
  {
   "cell_type": "markdown",
   "id": "pending-anderson",
   "metadata": {},
   "source": [
    "AVERAGE TEMPERATURE - PREVIOUS MONTH"
   ]
  },
  {
   "cell_type": "code",
   "execution_count": 408,
   "id": "understanding-happening",
   "metadata": {},
   "outputs": [],
   "source": [
    "#Funtction to incorporate the lagged temperature and if no previous data exists replace with mean value \n",
    "\n",
    "def templag(row):       \n",
    "    YearWeek = row['YearWeek'] \n",
    "    for i in range(4):  \n",
    "        try:\n",
    "            row[f'templag{i+1}'] = cweather[cweather['YearWeek'] == (YearWeek - (i+1))]['WeekAvgTemp'].unique()[0]\n",
    "        except IndexError:\n",
    "            row[f'templag{i+1}'] = cweather['WeekAvgTemp'].mean() \n",
    "    return row"
   ]
  },
  {
   "cell_type": "code",
   "execution_count": 409,
   "id": "divided-basket",
   "metadata": {},
   "outputs": [],
   "source": [
    "#Apply function templag\n",
    "cweather = cweather.apply(templag, axis=1)"
   ]
  },
  {
   "cell_type": "code",
   "execution_count": 410,
   "id": "eight-creation",
   "metadata": {
    "scrolled": true
   },
   "outputs": [
    {
     "data": {
      "text/html": [
       "<div>\n",
       "<style scoped>\n",
       "    .dataframe tbody tr th:only-of-type {\n",
       "        vertical-align: middle;\n",
       "    }\n",
       "\n",
       "    .dataframe tbody tr th {\n",
       "        vertical-align: top;\n",
       "    }\n",
       "\n",
       "    .dataframe thead th {\n",
       "        text-align: right;\n",
       "    }\n",
       "</style>\n",
       "<table border=\"1\" class=\"dataframe\">\n",
       "  <thead>\n",
       "    <tr style=\"text-align: right;\">\n",
       "      <th></th>\n",
       "      <th>WeekAvgTemp</th>\n",
       "      <th>templag1</th>\n",
       "      <th>templag2</th>\n",
       "      <th>templag3</th>\n",
       "      <th>templag4</th>\n",
       "    </tr>\n",
       "    <tr>\n",
       "      <th>YearWeek</th>\n",
       "      <th></th>\n",
       "      <th></th>\n",
       "      <th></th>\n",
       "      <th></th>\n",
       "      <th></th>\n",
       "    </tr>\n",
       "  </thead>\n",
       "  <tbody>\n",
       "    <tr>\n",
       "      <th>201440</th>\n",
       "      <td>57.142857</td>\n",
       "      <td>65.285714</td>\n",
       "      <td>62.142857</td>\n",
       "      <td>60.071429</td>\n",
       "      <td>74.428571</td>\n",
       "    </tr>\n",
       "    <tr>\n",
       "      <th>201441</th>\n",
       "      <td>53.714286</td>\n",
       "      <td>57.142857</td>\n",
       "      <td>65.285714</td>\n",
       "      <td>62.142857</td>\n",
       "      <td>60.071429</td>\n",
       "    </tr>\n",
       "    <tr>\n",
       "      <th>201442</th>\n",
       "      <td>54.000000</td>\n",
       "      <td>53.714286</td>\n",
       "      <td>57.142857</td>\n",
       "      <td>65.285714</td>\n",
       "      <td>62.142857</td>\n",
       "    </tr>\n",
       "    <tr>\n",
       "      <th>201443</th>\n",
       "      <td>54.642857</td>\n",
       "      <td>54.000000</td>\n",
       "      <td>53.714286</td>\n",
       "      <td>57.142857</td>\n",
       "      <td>65.285714</td>\n",
       "    </tr>\n",
       "    <tr>\n",
       "      <th>201444</th>\n",
       "      <td>50.200000</td>\n",
       "      <td>54.642857</td>\n",
       "      <td>54.000000</td>\n",
       "      <td>53.714286</td>\n",
       "      <td>57.142857</td>\n",
       "    </tr>\n",
       "  </tbody>\n",
       "</table>\n",
       "</div>"
      ],
      "text/plain": [
       "          WeekAvgTemp   templag1   templag2   templag3   templag4\n",
       "YearWeek                                                         \n",
       "201440      57.142857  65.285714  62.142857  60.071429  74.428571\n",
       "201441      53.714286  57.142857  65.285714  62.142857  60.071429\n",
       "201442      54.000000  53.714286  57.142857  65.285714  62.142857\n",
       "201443      54.642857  54.000000  53.714286  57.142857  65.285714\n",
       "201444      50.200000  54.642857  54.000000  53.714286  57.142857"
      ]
     },
     "execution_count": 410,
     "metadata": {},
     "output_type": "execute_result"
    }
   ],
   "source": [
    "#Check the temperature lagged variables are correct\n",
    "cweather.groupby(by='YearWeek').mean()[['WeekAvgTemp', 'templag1', 'templag2', 'templag3', 'templag4']].tail(5)"
   ]
  },
  {
   "cell_type": "markdown",
   "id": "fitting-atlanta",
   "metadata": {},
   "source": [
    "CUMMULATIVE WEEKLY PRECIPITATION - PREVIOUS MONTH"
   ]
  },
  {
   "cell_type": "code",
   "execution_count": 411,
   "id": "central-batman",
   "metadata": {},
   "outputs": [],
   "source": [
    "#Funtction to incorportae the lagged precipitation and if no previous data exists replace with mean value \n",
    "\n",
    "def preciplag(row):\n",
    "    YearWeek = row['YearWeek']\n",
    "    for i in range(4):\n",
    "        try:\n",
    "            row[f'preciplag{i+1}'] = cweather[cweather['YearWeek'] == (YearWeek - (i+1))]['WeekPrecipTotal'].unique()[0]\n",
    "        except IndexError:\n",
    "            row[f'preciplag{i+1}'] = cweather['WeekPrecipTotal'].mean()\n",
    "    return row"
   ]
  },
  {
   "cell_type": "code",
   "execution_count": 412,
   "id": "respected-retailer",
   "metadata": {},
   "outputs": [],
   "source": [
    "#Apply  function preciplag\n",
    "cweather = cweather.apply(preciplag, axis=1)"
   ]
  },
  {
   "cell_type": "markdown",
   "id": "unique-january",
   "metadata": {},
   "source": [
    "RELATIVE HUMIDITY - PREVIOUS MONTH"
   ]
  },
  {
   "cell_type": "code",
   "execution_count": 413,
   "id": "liquid-process",
   "metadata": {},
   "outputs": [],
   "source": [
    "# Creating a funtction to incorportae the lagged precipitation  and if no previous data exists replace with mean value \n",
    "\n",
    "def rhmlag(row):\n",
    "    YearWeek = row['YearWeek']\n",
    "    for i in range(4):\n",
    "        try:\n",
    "            row[f'rhmlag{i+1}'] = cweather[cweather['YearWeek'] == (YearWeek - (i+1))]['rhm'].unique()[0]\n",
    "        except IndexError:\n",
    "            row[f'rhmlag{i+1}'] = cweather['rhm'].mean()\n",
    "    return row"
   ]
  },
  {
   "cell_type": "code",
   "execution_count": 414,
   "id": "presidential-portable",
   "metadata": {},
   "outputs": [],
   "source": [
    "#Apply function rhmlag\n",
    "cweather = cweather.apply(rhmlag, axis=1)"
   ]
  },
  {
   "cell_type": "markdown",
   "id": "executed-concert",
   "metadata": {},
   "source": [
    "TRAPS"
   ]
  },
  {
   "cell_type": "code",
   "execution_count": 415,
   "id": "discrete-circus",
   "metadata": {},
   "outputs": [],
   "source": [
    "#Encoding all traps to compare with target variable - One Hot Encoding\n",
    "ctrain = pd.get_dummies(ctrain, columns=['Trap'])"
   ]
  },
  {
   "cell_type": "markdown",
   "id": "instant-brown",
   "metadata": {},
   "source": [
    "SPECIES"
   ]
  },
  {
   "cell_type": "code",
   "execution_count": 416,
   "id": "increased-jungle",
   "metadata": {},
   "outputs": [
    {
     "data": {
      "text/html": [
       "<div>\n",
       "<style scoped>\n",
       "    .dataframe tbody tr th:only-of-type {\n",
       "        vertical-align: middle;\n",
       "    }\n",
       "\n",
       "    .dataframe tbody tr th {\n",
       "        vertical-align: top;\n",
       "    }\n",
       "\n",
       "    .dataframe thead th {\n",
       "        text-align: right;\n",
       "    }\n",
       "</style>\n",
       "<table border=\"1\" class=\"dataframe\">\n",
       "  <thead>\n",
       "    <tr style=\"text-align: right;\">\n",
       "      <th></th>\n",
       "      <th>WnvPresent</th>\n",
       "    </tr>\n",
       "    <tr>\n",
       "      <th>Species</th>\n",
       "      <th></th>\n",
       "    </tr>\n",
       "  </thead>\n",
       "  <tbody>\n",
       "    <tr>\n",
       "      <th>CULEX ERRATICUS</th>\n",
       "      <td>0</td>\n",
       "    </tr>\n",
       "    <tr>\n",
       "      <th>CULEX PIPIENS</th>\n",
       "      <td>240</td>\n",
       "    </tr>\n",
       "    <tr>\n",
       "      <th>CULEX PIPIENS/RESTUANS</th>\n",
       "      <td>262</td>\n",
       "    </tr>\n",
       "    <tr>\n",
       "      <th>CULEX RESTUANS</th>\n",
       "      <td>49</td>\n",
       "    </tr>\n",
       "    <tr>\n",
       "      <th>CULEX SALINARIUS</th>\n",
       "      <td>0</td>\n",
       "    </tr>\n",
       "    <tr>\n",
       "      <th>CULEX TARSALIS</th>\n",
       "      <td>0</td>\n",
       "    </tr>\n",
       "    <tr>\n",
       "      <th>CULEX TERRITANS</th>\n",
       "      <td>0</td>\n",
       "    </tr>\n",
       "  </tbody>\n",
       "</table>\n",
       "</div>"
      ],
      "text/plain": [
       "                        WnvPresent\n",
       "Species                           \n",
       "CULEX ERRATICUS                  0\n",
       "CULEX PIPIENS                  240\n",
       "CULEX PIPIENS/RESTUANS         262\n",
       "CULEX RESTUANS                  49\n",
       "CULEX SALINARIUS                 0\n",
       "CULEX TARSALIS                   0\n",
       "CULEX TERRITANS                  0"
      ]
     },
     "execution_count": 416,
     "metadata": {},
     "output_type": "execute_result"
    }
   ],
   "source": [
    "# WnvPresent based on species\n",
    "ctrain[['Species', 'WnvPresent']].groupby('Species').sum()"
   ]
  },
  {
   "cell_type": "code",
   "execution_count": 417,
   "id": "illegal-advance",
   "metadata": {},
   "outputs": [],
   "source": [
    "ctrain['Species'] = ctrain['Species'].map({'CULEX PIPIENS/RESTUANS': 2, 'CULEX PIPIENS': 2, 'CULEX RESTUANS': 1}) \\\n",
    "                                   .fillna(0)"
   ]
  },
  {
   "cell_type": "code",
   "execution_count": 418,
   "id": "vanilla-grenada",
   "metadata": {},
   "outputs": [
    {
     "data": {
      "text/plain": [
       "2.0    7451\n",
       "1.0    2740\n",
       "0.0     315\n",
       "Name: Species, dtype: int64"
      ]
     },
     "execution_count": 418,
     "metadata": {},
     "output_type": "execute_result"
    }
   ],
   "source": [
    "# Checking species value count\n",
    "ctrain['Species'].value_counts()"
   ]
  },
  {
   "cell_type": "markdown",
   "id": "selected-cheat",
   "metadata": {},
   "source": [
    "FEATURE SELECTION"
   ]
  },
  {
   "cell_type": "markdown",
   "id": "center-encyclopedia",
   "metadata": {},
   "source": [
    "POLYNOMIAL FEATURE ENGINEERING"
   ]
  },
  {
   "cell_type": "code",
   "execution_count": 419,
   "id": "cardiovascular-movement",
   "metadata": {
    "scrolled": true
   },
   "outputs": [],
   "source": [
    "merged_df = pd.merge(cweather, ctrain, on=['Date', 'Year', 'Week', 'Month', 'YearWeek', 'DayOfWeek'])"
   ]
  },
  {
   "cell_type": "code",
   "execution_count": 420,
   "id": "assigned-genre",
   "metadata": {},
   "outputs": [],
   "source": [
    "X = merged_df[[col for col in merged_df.columns if 'WnvPresent' not in col]]._get_numeric_data()\n",
    "y = ctrain['WnvPresent']"
   ]
  },
  {
   "cell_type": "code",
   "execution_count": 421,
   "id": "british-serbia",
   "metadata": {},
   "outputs": [
    {
     "data": {
      "text/plain": [
       "(10506, 16470)"
      ]
     },
     "execution_count": 421,
     "metadata": {},
     "output_type": "execute_result"
    }
   ],
   "source": [
    "#Generate the full polynomial feature table\n",
    "poly = PolynomialFeatures(include_bias=False, degree=2)\n",
    "X_poly = poly.fit_transform(X)\n",
    "X_poly.shape"
   ]
  },
  {
   "cell_type": "code",
   "execution_count": 422,
   "id": "focused-glenn",
   "metadata": {},
   "outputs": [],
   "source": [
    "#Add appropriate feature names to all polynomial features\n",
    "X_poly = pd.DataFrame(X_poly,columns=poly.get_feature_names(X.columns))"
   ]
  },
  {
   "cell_type": "code",
   "execution_count": 423,
   "id": "informational-allocation",
   "metadata": {},
   "outputs": [],
   "source": [
    "#Generate list of poly feature correlations\n",
    "X_poly_corrs = X_poly.corrwith(y)"
   ]
  },
  {
   "cell_type": "code",
   "execution_count": 427,
   "id": "cardiac-cancer",
   "metadata": {},
   "outputs": [
    {
     "data": {
      "text/plain": [
       "Sunrise WeekAvgTemp        0.150030\n",
       "Sunrise templag2           0.147419\n",
       "Sunrise templag3           0.147091\n",
       "Sunrise templag1           0.144225\n",
       "WetBulb Sunrise            0.143433\n",
       "DewPoint Sunrise           0.142001\n",
       "DewPoint Week              0.141467\n",
       "Tmin Sunrise               0.140002\n",
       "Week WeekAvgTemp           0.139110\n",
       "WetBulb Week               0.138456\n",
       "Week templag2              0.138359\n",
       "DewPoint Month             0.137620\n",
       "Tmin Week                  0.137041\n",
       "Week templag3              0.136736\n",
       "Month templag3             0.134532\n",
       "WetBulb Month              0.133504\n",
       "templag2 templag3          0.133076\n",
       "Tavg Sunrise               0.132760\n",
       "Tmin Month                 0.132468\n",
       "Week templag1              0.132166\n",
       "Month templag2             0.131850\n",
       "templag3 Species           0.130654\n",
       "Month WeekAvgTemp          0.130124\n",
       "Week Species               0.129371\n",
       "Tavg Week                  0.129274\n",
       "DewPoint Species           0.128574\n",
       "Sunrise Sunset             0.128111\n",
       "Month Species              0.127731\n",
       "WeekPrecipTotal Species    0.127707\n",
       "templag2 Species           0.127152\n",
       "Month templag1             0.126607\n",
       "Sunrise Species            0.125452\n",
       "DewPoint templag3          0.124752\n",
       "Tavg Month                 0.123805\n",
       "WetBulb templag3           0.123325\n",
       "WetBulb Species            0.123245\n",
       "Tmin Species               0.122393\n",
       "templag3 Latitude          0.121908\n",
       "YearWeek templag3          0.121323\n",
       "Year templag3              0.121306\n",
       "templag3^2                 0.121295\n",
       "StnPressure templag3       0.120870\n",
       "Depart WeekPrecipTotal     0.120779\n",
       "SeaLevel templag3          0.120727\n",
       "Cool WeekPrecipTotal       0.120708\n",
       "templag3                   0.120568\n",
       "templag4 Species           0.119653\n",
       "templag3 templag4          0.118867\n",
       "Week WeekPrecipTotal       0.118154\n",
       "Tavg Species               0.117640\n",
       "dtype: float64"
      ]
     },
     "execution_count": 427,
     "metadata": {},
     "output_type": "execute_result"
    }
   ],
   "source": [
    "#Show features most highly correlated (positively) with target\n",
    "X_poly_corrs.sort_values(ascending=False).head(50)"
   ]
  },
  {
   "cell_type": "code",
   "execution_count": 428,
   "id": "needed-lawrence",
   "metadata": {},
   "outputs": [],
   "source": [
    "#Selecting 3 features to avoid multicollinearity issues\n",
    "merged_df['Sunrise_WeekAvgTemp'] = merged_df['Sunrise'] * merged_df['WeekAvgTemp']\n",
    "merged_df['DewPoint_Sunrise'] = merged_df['DewPoint'] * merged_df['Sunrise']\n",
    "merged_df['Depart_WeekPrecipTotal'] = merged_df['Depart'] * merged_df['WeekPrecipTotal']"
   ]
  },
  {
   "cell_type": "code",
   "execution_count": 429,
   "id": "mediterranean-shannon",
   "metadata": {},
   "outputs": [],
   "source": [
    "cm = abs(merged_df.corr()['WnvPresent']).sort_values(ascending=False)"
   ]
  },
  {
   "cell_type": "code",
   "execution_count": 430,
   "id": "noticed-recipe",
   "metadata": {},
   "outputs": [
    {
     "data": {
      "text/plain": [
       "Index(['Trap_T013', 'Trap_T230', 'Trap_T014', 'Trap_T148', 'Trap_T016',\n",
       "       'Trap_T043', 'Trap_T018', 'Trap_T212', 'Trap_T145', 'Trap_T074',\n",
       "       ...\n",
       "       'Trap_T162', 'Trap_T156', 'Trap_T039', 'Trap_T142', 'PrecipTotal',\n",
       "       'Trap_T227', 'Trap_T033', 'Trap_T066', 'Trap_T226', 'ResultDir'],\n",
       "      dtype='object', length=131)"
      ]
     },
     "execution_count": 430,
     "metadata": {},
     "output_type": "execute_result"
    }
   ],
   "source": [
    "#Drop columns with less than 2% correlation to WnvPresent\n",
    "cols_to_drop = cm[cm < 0.02].index\n",
    "cols_to_drop"
   ]
  },
  {
   "cell_type": "code",
   "execution_count": 431,
   "id": "possible-chassis",
   "metadata": {},
   "outputs": [
    {
     "data": {
      "text/plain": [
       "(10506, 57)"
      ]
     },
     "execution_count": 431,
     "metadata": {},
     "output_type": "execute_result"
    }
   ],
   "source": [
    "merged_df = merged_df.drop(columns=cols_to_drop)\n",
    "merged_df.shape"
   ]
  },
  {
   "cell_type": "code",
   "execution_count": 432,
   "id": "committed-charles",
   "metadata": {},
   "outputs": [
    {
     "data": {
      "text/plain": [
       "<AxesSubplot:>"
      ]
     },
     "execution_count": 432,
     "metadata": {},
     "output_type": "execute_result"
    },
    {
     "data": {
      "image/png": "[encoded data removed]",
      "text/plain": [
       "<Figure size 1008x1008 with 2 Axes>"
      ]
     },
     "metadata": {
      "needs_background": "light"
     },
     "output_type": "display_data"
    }
   ],
   "source": [
    "plt.figure(figsize=(14, 14))\n",
    "sns.heatmap(merged_df.corr(), cmap='coolwarm', square=True)"
   ]
  },
  {
   "cell_type": "markdown",
   "id": "moving-finland",
   "metadata": {},
   "source": [
    "SELECTING TOP FEATURES"
   ]
  },
  {
   "cell_type": "code",
   "execution_count": 433,
   "id": "difficult-learning",
   "metadata": {},
   "outputs": [
    {
     "data": {
      "text/plain": [
       "Sunrise_WeekAvgTemp       0.150030\n",
       "DewPoint_Sunrise          0.142001\n",
       "Depart_WeekPrecipTotal    0.120779\n",
       "templag3                  0.120568\n",
       "templag2                  0.106181\n",
       "Sunrise                   0.105227\n",
       "Week                      0.104171\n",
       "Species                   0.103477\n",
       "Month                     0.100143\n",
       "WeekPrecipTotal           0.098721\n",
       "templag4                  0.087055\n",
       "DewPoint                  0.085883\n",
       "WetBulb                   0.080468\n",
       "Tmin                      0.074048\n",
       "Sunset                    0.068451\n",
       "templag1                  0.065369\n",
       "Tavg                      0.064256\n",
       "Longitude                 0.060345\n",
       "Cool                      0.058101\n",
       "WeekAvgTemp               0.054949\n",
       "preciplag4                0.054830\n",
       "Heat                      0.054740\n",
       "YearWeek                  0.053012\n",
       "Depart                    0.052586\n",
       "rhm                       0.052098\n",
       "n_codesum                 0.051083\n",
       "Year                      0.050865\n",
       "Tmax                      0.048244\n",
       "ResultSpeed               0.046298\n",
       "Trap_T900                 0.044220\n",
       "preciplag1                0.038998\n",
       "Trap_T143                 0.034433\n",
       "rhmlag2                   0.030603\n",
       "Trap_T003                 0.030296\n",
       "AvgSpeed                  0.029416\n",
       "rhmlag1                   0.029072\n",
       "rhmlag4                   0.028938\n",
       "Latitude                  0.028697\n",
       "Mist                      0.027671\n",
       "Trap_T233                 0.027159\n",
       "Name: WnvPresent, dtype: float64"
      ]
     },
     "execution_count": 433,
     "metadata": {},
     "output_type": "execute_result"
    }
   ],
   "source": [
    "cm = abs(merged_df.corr()['WnvPresent']).sort_values(ascending=False)\n",
    "cm = cm.drop('WnvPresent')\n",
    "cols_to_keep = cm.head(40)\n",
    "cols_to_keep"
   ]
  },
  {
   "cell_type": "code",
   "execution_count": 434,
   "id": "precious-armstrong",
   "metadata": {},
   "outputs": [],
   "source": [
    "ftrain = merged_df[cols_to_keep.keys()]"
   ]
  },
  {
   "cell_type": "code",
   "execution_count": 435,
   "id": "assigned-gilbert",
   "metadata": {},
   "outputs": [
    {
     "data": {
      "text/plain": [
       "(10506, 40)"
      ]
     },
     "execution_count": 435,
     "metadata": {},
     "output_type": "execute_result"
    }
   ],
   "source": [
    "ftrain.shape"
   ]
  },
  {
   "cell_type": "code",
   "execution_count": 451,
   "id": "moving-piece",
   "metadata": {},
   "outputs": [
    {
     "data": {
      "text/plain": [
       "Series([], dtype: int64)"
      ]
     },
     "execution_count": 451,
     "metadata": {},
     "output_type": "execute_result"
    }
   ],
   "source": [
    "#Check for null values in ftrain\n",
    "ftrain.isnull().sum()[ftrain.isnull().sum()>0]"
   ]
  },
  {
   "cell_type": "code",
   "execution_count": 437,
   "id": "classical-lebanon",
   "metadata": {},
   "outputs": [],
   "source": [
    "ftrain.to_csv('Final_train.csv', index=False)"
   ]
  },
  {
   "cell_type": "markdown",
   "id": "superb-gilbert",
   "metadata": {},
   "source": [
    "TEST DATA PREPARATION"
   ]
  },
  {
   "cell_type": "code",
   "execution_count": 438,
   "id": "dirty-serbia",
   "metadata": {},
   "outputs": [],
   "source": [
    "test = pd.get_dummies(test, columns=['Trap'])"
   ]
  },
  {
   "cell_type": "code",
   "execution_count": 439,
   "id": "interesting-baltimore",
   "metadata": {},
   "outputs": [],
   "source": [
    "test['Date'] = pd.to_datetime(test['Date'])"
   ]
  },
  {
   "cell_type": "code",
   "execution_count": 440,
   "id": "accepted-webcam",
   "metadata": {},
   "outputs": [],
   "source": [
    "test['Species'] = test['Species'].map({'CULEX PIPIENS/RESTUANS': 2, 'CULEX PIPIENS': 2, 'CULEX RESTUANS': 1}).fillna(0)"
   ]
  },
  {
   "cell_type": "code",
   "execution_count": 441,
   "id": "sound-mongolia",
   "metadata": {},
   "outputs": [],
   "source": [
    "merged_test = pd.merge(cweather, test)"
   ]
  },
  {
   "cell_type": "code",
   "execution_count": 442,
   "id": "physical-behavior",
   "metadata": {},
   "outputs": [
    {
     "data": {
      "text/plain": [
       "Index(['Date', 'Tmax', 'Tmin', 'Tavg', 'Depart', 'DewPoint', 'WetBulb', 'Heat',\n",
       "       'Cool', 'Sunrise',\n",
       "       ...\n",
       "       'Trap_T231', 'Trap_T232', 'Trap_T233', 'Trap_T234', 'Trap_T235',\n",
       "       'Trap_T236', 'Trap_T237', 'Trap_T238', 'Trap_T900', 'Trap_T903'],\n",
       "      dtype='object', length=198)"
      ]
     },
     "execution_count": 442,
     "metadata": {},
     "output_type": "execute_result"
    }
   ],
   "source": [
    "merged_test.columns"
   ]
  },
  {
   "cell_type": "code",
   "execution_count": 445,
   "id": "religious-division",
   "metadata": {},
   "outputs": [],
   "source": [
    "merged_test['Sunrise_WeekAvgTemp'] = merged_test['Sunrise'] * merged_test['WeekAvgTemp']\n",
    "merged_test['DewPoint_Sunrise'] = merged_test['DewPoint'] * merged_test['Sunrise']\n",
    "merged_test['Depart_WeekPrecipTotal'] = merged_df['Depart'] * merged_df['WeekPrecipTotal']"
   ]
  },
  {
   "cell_type": "code",
   "execution_count": 446,
   "id": "statistical-thriller",
   "metadata": {},
   "outputs": [],
   "source": [
    "ftest = merged_test[cols_to_keep.keys()]"
   ]
  },
  {
   "cell_type": "code",
   "execution_count": 447,
   "id": "southern-techno",
   "metadata": {},
   "outputs": [
    {
     "data": {
      "text/plain": [
       "([], [])"
      ]
     },
     "execution_count": 447,
     "metadata": {},
     "output_type": "execute_result"
    }
   ],
   "source": [
    "#Check for missing columns\n",
    "[col for col in ftest if col not in ftrain], [col for col in ftrain if col not in ftest]"
   ]
  },
  {
   "cell_type": "code",
   "execution_count": 448,
   "id": "verbal-morocco",
   "metadata": {},
   "outputs": [
    {
     "data": {
      "text/plain": [
       "(116293, 40)"
      ]
     },
     "execution_count": 448,
     "metadata": {},
     "output_type": "execute_result"
    }
   ],
   "source": [
    "ftest.shape"
   ]
  },
  {
   "cell_type": "code",
   "execution_count": 450,
   "id": "cooked-incentive",
   "metadata": {},
   "outputs": [
    {
     "data": {
      "text/plain": [
       "Depart_WeekPrecipTotal    105787\n",
       "dtype: int64"
      ]
     },
     "execution_count": 450,
     "metadata": {},
     "output_type": "execute_result"
    }
   ],
   "source": [
    "#Check for null values in ftest\n",
    "ftest.isnull().sum()[ftest.isnull().sum() > 0]"
   ]
  },
  {
   "cell_type": "code",
   "execution_count": 452,
   "id": "instant-throw",
   "metadata": {},
   "outputs": [],
   "source": [
    "ftest.to_csv('Final_test.csv', index=False)"
   ]
  },
  {
   "cell_type": "code",
   "execution_count": null,
   "id": "hearing-communications",
   "metadata": {},
   "outputs": [],
   "source": []
  }
 ],
 "metadata": {
  "kernelspec": {
   "display_name": "Python 3",
   "language": "python",
   "name": "python3"
  },
  "language_info": {
   "codemirror_mode": {
    "name": "ipython",
    "version": 3
   },
   "file_extension": ".py",
   "mimetype": "text/x-python",
   "name": "python",
   "nbconvert_exporter": "python",
   "pygments_lexer": "ipython3",
   "version": "3.8.5"
  }
 },
 "nbformat": 4,
 "nbformat_minor": 5
}
